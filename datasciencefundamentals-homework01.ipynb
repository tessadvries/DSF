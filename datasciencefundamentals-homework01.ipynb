{
 "cells": [
  {
   "cell_type": "code",
   "execution_count": 7,
   "metadata": {},
   "outputs": [],
   "source": [
    "calories = 189\n",
    "fat = 7.7\n",
    "carbs = 13.4\n",
    "sugar = 14.7\n",
    "fiber = 0.6\n",
    "salt = 0.26\n",
    "protein = 1.5\n",
    "\n",
    "amount = input(\"how many stroopwafels have you had today?\")"
   ]
  },
  {
   "cell_type": "code",
   "execution_count": 8,
   "metadata": {},
   "outputs": [
    {
     "name": "stdout",
     "output_type": "stream",
     "text": [
      "You had 2 stroopwafels today\n"
     ]
    }
   ],
   "source": [
    "print(\"You had \" + amount + \" stroopwafels today\")"
   ]
  },
  {
   "cell_type": "code",
   "execution_count": 9,
   "metadata": {},
   "outputs": [],
   "source": [
    "amount = float(amount)"
   ]
  },
  {
   "cell_type": "code",
   "execution_count": 10,
   "metadata": {},
   "outputs": [
    {
     "name": "stdout",
     "output_type": "stream",
     "text": [
      "Calories consumed: 378.0 calories\n",
      "Fat consumed: 15.4 grams\n",
      "Carbs consumed: 26.8 grams\n",
      "Sugar consumed: 29.4 grams\n",
      "Fiber consumed: 1.2 grams\n",
      "Salt consumed: 0.52 grams\n",
      "Protein consumed: 3.0 grams\n"
     ]
    }
   ],
   "source": [
    "user_calories = calories * amount\n",
    "user_fat = fat * amount\n",
    "user_carbs = carbs * amount\n",
    "user_sugar = sugar * amount\n",
    "user_fiber = fiber * amount\n",
    "user_salt = salt * amount\n",
    "user_protein = protein * amount\n",
    "\n",
    "print(\"Calories consumed: \" + str(user_calories) + \" calories\")\n",
    "print(\"Fat consumed: \" + str(user_fat) + \" grams\")\n",
    "print(\"Carbs consumed: \" + str(user_carbs) + \" grams\")\n",
    "print(\"Sugar consumed: \" + str(user_sugar) + \" grams\")\n",
    "print(\"Fiber consumed: \" + str(user_fiber) + \" grams\")\n",
    "print(\"Salt consumed: \" + str(user_salt) + \" grams\")\n",
    "print(\"Protein consumed: \" + str(user_protein) + \" grams\")"
   ]
  },
  {
   "cell_type": "code",
   "execution_count": null,
   "metadata": {},
   "outputs": [],
   "source": []
  }
 ],
 "metadata": {
  "kernelspec": {
   "display_name": "Python 3",
   "language": "python",
   "name": "python3"
  },
  "language_info": {
   "codemirror_mode": {
    "name": "ipython",
    "version": 3
   },
   "file_extension": ".py",
   "mimetype": "text/x-python",
   "name": "python",
   "nbconvert_exporter": "python",
   "pygments_lexer": "ipython3",
   "version": "3.6.5"
  }
 },
 "nbformat": 4,
 "nbformat_minor": 2
}
