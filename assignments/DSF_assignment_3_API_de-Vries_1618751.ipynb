{
 "cells": [
  {
   "cell_type": "code",
   "execution_count": 4,
   "metadata": {},
   "outputs": [
    {
     "name": "stdout",
     "output_type": "stream",
     "text": [
      "Requested the Wikipedia article: Noorwegen\n",
      "Language: Dutch\n",
      "Status Code: 200\n",
      "Loading of the Wikipedia article is successful.\n",
      "Title: Noorwegen.\n",
      "Description: land in Noord-Europa.\n"
     ]
    },
    {
     "data": {
      "text/html": [
       "<img src=\"https://upload.wikimedia.org/wikipedia/commons/thumb/d/d9/Flag_of_Norway.svg/320px-Flag_of_Norway.svg.png\"/>"
      ],
      "text/plain": [
       "<IPython.core.display.Image object>"
      ]
     },
     "metadata": {},
     "output_type": "display_data"
    },
    {
     "data": {
      "text/html": [
       "Click <a href=https://www.google.nl/maps/?q=62.76666667,9.45>here</a> to view on Google Maps."
      ],
      "text/plain": [
       "<IPython.core.display.HTML object>"
      ]
     },
     "metadata": {},
     "output_type": "display_data"
    },
    {
     "name": "stdout",
     "output_type": "stream",
     "text": [
      "Status Code: 200\n",
      "Loading of the related Wikipedia articles is successful.\n",
      "\n",
      "\n",
      "Title: Olaf V Van Noorwegen\n",
      "Description: Noors soevereine (1903-1991)\n"
     ]
    },
    {
     "data": {
      "text/html": [
       "URL: <a href=https://nl.wikipedia.org/wiki/Olaf_V_van_Noorwegen>https://nl.wikipedia.org/wiki/Olaf_V_van_Noorwegen</a>"
      ],
      "text/plain": [
       "<IPython.core.display.HTML object>"
      ]
     },
     "metadata": {},
     "output_type": "display_data"
    },
    {
     "name": "stdout",
     "output_type": "stream",
     "text": [
      "\n",
      "\n",
      "Title: Stavanger\n",
      "Description: gemeente in Noorwegen\n"
     ]
    },
    {
     "data": {
      "text/html": [
       "URL: <a href=https://nl.wikipedia.org/wiki/Stavanger>https://nl.wikipedia.org/wiki/Stavanger</a>"
      ],
      "text/plain": [
       "<IPython.core.display.HTML object>"
      ]
     },
     "metadata": {},
     "output_type": "display_data"
    },
    {
     "name": "stdout",
     "output_type": "stream",
     "text": [
      "\n",
      "\n",
      "Title: Kristiansand\n",
      "Description: gemeente in Noorwegen\n"
     ]
    },
    {
     "data": {
      "text/html": [
       "URL: <a href=https://nl.wikipedia.org/wiki/Kristiansand>https://nl.wikipedia.org/wiki/Kristiansand</a>"
      ],
      "text/plain": [
       "<IPython.core.display.HTML object>"
      ]
     },
     "metadata": {},
     "output_type": "display_data"
    }
   ],
   "source": [
    "#DSF_Assignment3_API_Tessa-de-Vries_1618751\n",
    "\n",
    "#import necessary modules\n",
    "import requests\n",
    "import json\n",
    "from IPython.display import display, Image\n",
    "from IPython.display import display, HTML\n",
    "\n",
    "#list for defining language of the user for URL\n",
    "full_language = [\"english\", \"dutch\", \"french\", \"spanish\", \"german\", \"italian\", \"portugese\"]\n",
    "short_language = [\"en\", \"nl\", \"fr\", \"es\", \"de\", \"it\", \"pt\"]\n",
    "final_language = []\n",
    "\n",
    "#list to append necessary items of related articles\n",
    "related_articles = []\n",
    "\n",
    "#user input for article and language\n",
    "user_article = input(\"Please enter the name of the Wikipedia article you would like to see: \").strip().replace(\" \",\"_\")\n",
    "user_language = input(\"Please enter the preffered language here: \").strip().lower()\n",
    "\n",
    "#print requested article and language back to the user\n",
    "print(f'Requested the Wikipedia article: {user_article.title()}')\n",
    "print(f'Language: {user_language.capitalize()}')\n",
    "\n",
    "#combine user language with full language to convert to needed shortcut of language for URL\n",
    "if user_language in full_language:\n",
    "    index = full_language.index(user_language)\n",
    "    short_user_language = short_language[index]\n",
    "    final_language.append(short_user_language)\n",
    "\n",
    "#final URL + HTTP GET request for page summary\n",
    "url = f\"https://{final_language[0]}.wikipedia.org/api/rest_v1/page/summary/{user_article}\"\n",
    "r = requests.get(url)\n",
    "\n",
    "#check status code and print back to user\n",
    "print(f'Status Code: {r.status_code}')\n",
    "if r.status_code != 200:\n",
    "    print(\"Error! Sorry something went wrong..\")\n",
    "else:\n",
    "    print(\"Loading of the Wikipedia article is successful.\")\n",
    "\n",
    "#convert json data\n",
    "data = json.loads(r.text)\n",
    "\n",
    "#print title and description of the article back to the user\n",
    "title = data[\"title\"]\n",
    "print(f'Title: {title}.')\n",
    "\n",
    "if \"description\" in data:\n",
    "    description = data[\"description\"]\n",
    "    print(f'Description: {description}.')\n",
    "else:\n",
    "    print(\"No description available\")\n",
    "\n",
    "#display thumbnail to the user, if there is not thumbnail available print not available\n",
    "if \"thumbnail\" in data:\n",
    "    thumbnail = data[\"thumbnail\"]\n",
    "    img_source = thumbnail[\"source\"]\n",
    "    img = Image(url = img_source)\n",
    "    display(img)\n",
    "else:\n",
    "    print(\"No thumbnail available\")\n",
    "    \n",
    "#extract coordinates from data and create google maps URL(clickable) for user\n",
    "if \"coordinates\" in data:\n",
    "    coordinates = data[\"coordinates\"]\n",
    "    lon = coordinates[\"lon\"]\n",
    "    lat = coordinates[\"lat\"]\n",
    "    url_coordinates = f\"https://www.google.nl/maps/?q={lat},{lon}\"\n",
    "    html = HTML(f'Click <a href={url_coordinates}>here</a> to view on Google Maps.')\n",
    "    display(html)\n",
    "else:\n",
    "    print(\"No coordinates available\")\n",
    "\n",
    "#final related URL and HTTP GET request for related articles\n",
    "related_url = f\"https://{final_language[0]}.wikipedia.org/api/rest_v1/page/related/{user_article}\"\n",
    "related_req = requests.get(related_url)\n",
    "\n",
    "#check status code of related articles page and print back to user\n",
    "print(f'Status Code: {r.status_code}')\n",
    "if related_req.status_code != 200:\n",
    "    print(\"Error! Sorry something went wrong..\")\n",
    "else:\n",
    "    print(\"Loading of the related Wikipedia articles is successful.\")\n",
    "\n",
    "#loop through JSON data for related articles and append needed items in dict to list\n",
    "index = 0\n",
    "while index < 3:\n",
    "    new_data = json.loads(related_req.text)\n",
    "    page = new_data[\"pages\"][index]\n",
    "    \n",
    "    title = page[\"title\"].replace(\"_\",\" \").title()\n",
    "    url = page[\"content_urls\"][\"desktop\"][\"page\"]\n",
    "    if \"description\" in page:\n",
    "        description = page[\"description\"]\n",
    "    else:\n",
    "        description = \"No description available\" \n",
    "    items = {\"title\": title, \"url\": url, \"description\": description}\n",
    "    related_articles.append(items)\n",
    "\n",
    "#print related articles needed items to user\n",
    "    print('\\n')\n",
    "    print(f'Title: {title}')\n",
    "    print(f'Description: {description}')\n",
    "    html = HTML(f'URL: <a href={url}>{url}</a>')\n",
    "    display(html)\n",
    "    index = index + 1"
   ]
  },
  {
   "cell_type": "code",
   "execution_count": null,
   "metadata": {},
   "outputs": [],
   "source": []
  },
  {
   "cell_type": "code",
   "execution_count": null,
   "metadata": {},
   "outputs": [],
   "source": []
  }
 ],
 "metadata": {
  "kernelspec": {
   "display_name": "Python 3",
   "language": "python",
   "name": "python3"
  },
  "language_info": {
   "codemirror_mode": {
    "name": "ipython",
    "version": 3
   },
   "file_extension": ".py",
   "mimetype": "text/x-python",
   "name": "python",
   "nbconvert_exporter": "python",
   "pygments_lexer": "ipython3",
   "version": "3.6.5"
  }
 },
 "nbformat": 4,
 "nbformat_minor": 2
}
